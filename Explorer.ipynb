{
 "cells": [
  {
   "cell_type": "markdown",
   "id": "a22384da",
   "metadata": {},
   "source": [
    "# Event explorer\n",
    "Add description here"
   ]
  },
  {
   "cell_type": "code",
   "execution_count": 1,
   "id": "050abb4e",
   "metadata": {},
   "outputs": [],
   "source": [
    "from matplotlib import pyplot as plt\n",
    "import sys\n",
    "sys.path.append(r'C:\\Users\\trotta\\Desktop\\Shocks\\ShockWatcher\\foreshock_watcher\\solo_swa_loader')\n",
    "from solo_mag_loader import mag_load\n",
    "from solo_epd_loader import epd_load\n",
    "from solo_swa_loader import swa_load_grnd_mom\n",
    "import datetime as dt\n",
    "import numpy as np\n",
    "import pandas as pd\n",
    "from matplotlib.ticker import (MultipleLocator, FormatStrFormatter, AutoMinorLocator)\n",
    "import matplotlib.dates as mdates"
   ]
  },
  {
   "cell_type": "markdown",
   "id": "8928dcb8",
   "metadata": {},
   "source": [
    "Set path variables to make files land"
   ]
  },
  {
   "cell_type": "code",
   "execution_count": 4,
   "id": "73f8d417",
   "metadata": {},
   "outputs": [],
   "source": [
    "path = r'C:\\Users\\trotta\\Desktop\\Shocks\\Data\\Explorer'  # Directory for the downloaded data in this project\n",
    "plt.rcParams.update({'font.size': 12})  # increase font size for matplotlib\n"
   ]
  },
  {
   "cell_type": "markdown",
   "id": "cbda0750",
   "metadata": {},
   "source": [
    "Download data"
   ]
  },
  {
   "cell_type": "code",
   "execution_count": 5,
   "id": "3238d483",
   "metadata": {},
   "outputs": [],
   "source": [
    "startdate = dt.date(2021, 11, 2)\n",
    "enddate   = dt.date(2021, 11, 4)"
   ]
  },
  {
   "cell_type": "markdown",
   "id": "9c5fbcd5",
   "metadata": {},
   "source": [
    "Download MAG data"
   ]
  },
  {
   "cell_type": "code",
   "execution_count": 7,
   "id": "37ae0144",
   "metadata": {},
   "outputs": [],
   "source": [
    "df_mag_burst = mag_load(startdate, enddate, level='l2', data_type='burst', frame='rtn', path=path)"
   ]
  },
  {
   "cell_type": "markdown",
   "id": "5d2f1630",
   "metadata": {},
   "source": [
    "Download SWA data"
   ]
  },
  {
   "cell_type": "markdown",
   "id": "f7cd3191",
   "metadata": {},
   "source": [
    "Download grund moments"
   ]
  },
  {
   "cell_type": "code",
   "execution_count": 12,
   "id": "56088635",
   "metadata": {},
   "outputs": [
    {
     "data": {
      "application/vnd.jupyter.widget-view+json": {
       "model_id": "71a81a2cdaee44298f10c9a79ead4ab5",
       "version_major": 2,
       "version_minor": 0
      },
      "text/plain": [
       "Files Downloaded:   0%|          | 0/3 [00:00<?, ?file/s]"
      ]
     },
     "metadata": {},
     "output_type": "display_data"
    },
    {
     "name": "stderr",
     "output_type": "stream",
     "text": [
      "WARNING: SunpyUserWarning: astropy did not recognize units of \"Ticks\". Assigning dimensionless units. If you think this unit should not be dimensionless, please raise an issue at https://github.com/sunpy/sunpy/issues [sunpy.io.cdf]\n",
      "WARNING: SunpyUserWarning: astropy did not recognize units of \"Ticks\". Assigning dimensionless units. If you think this unit should not be dimensionless, please raise an issue at https://github.com/sunpy/sunpy/issues [sunpy.io.cdf]\n",
      "WARNING: SunpyUserWarning: astropy did not recognize units of \"Ticks\". Assigning dimensionless units. If you think this unit should not be dimensionless, please raise an issue at https://github.com/sunpy/sunpy/issues [sunpy.io.cdf]\n"
     ]
    }
   ],
   "source": [
    "from solo_swa_loader import swa_load_grnd_mom\n",
    "df_swa = swa_load_grnd_mom(startdate, enddate, path=path)"
   ]
  },
  {
   "cell_type": "code",
   "execution_count": 8,
   "id": "a7bd1a32",
   "metadata": {},
   "outputs": [
    {
     "data": {
      "text/html": [
       "<div>\n",
       "<style scoped>\n",
       "    .dataframe tbody tr th:only-of-type {\n",
       "        vertical-align: middle;\n",
       "    }\n",
       "\n",
       "    .dataframe tbody tr th {\n",
       "        vertical-align: top;\n",
       "    }\n",
       "\n",
       "    .dataframe thead th {\n",
       "        text-align: right;\n",
       "    }\n",
       "</style>\n",
       "<table border=\"1\" class=\"dataframe\">\n",
       "  <thead>\n",
       "    <tr style=\"text-align: right;\">\n",
       "      <th></th>\n",
       "      <th>B_RTN_0</th>\n",
       "      <th>B_RTN_1</th>\n",
       "      <th>B_RTN_2</th>\n",
       "      <th>QUALITY_BITMASK</th>\n",
       "      <th>QUALITY_FLAG</th>\n",
       "      <th>VECTOR_RANGE</th>\n",
       "      <th>VECTOR_TIME_RESOLUTION</th>\n",
       "    </tr>\n",
       "    <tr>\n",
       "      <th>EPOCH</th>\n",
       "      <th></th>\n",
       "      <th></th>\n",
       "      <th></th>\n",
       "      <th></th>\n",
       "      <th></th>\n",
       "      <th></th>\n",
       "      <th></th>\n",
       "    </tr>\n",
       "  </thead>\n",
       "  <tbody>\n",
       "    <tr>\n",
       "      <th>2021-11-02 00:00:00.008016</th>\n",
       "      <td>3.923956</td>\n",
       "      <td>-0.335455</td>\n",
       "      <td>1.932519</td>\n",
       "      <td>128</td>\n",
       "      <td>3</td>\n",
       "      <td>3</td>\n",
       "      <td>64.0</td>\n",
       "    </tr>\n",
       "    <tr>\n",
       "      <th>2021-11-02 00:00:00.023636</th>\n",
       "      <td>3.937984</td>\n",
       "      <td>-0.354998</td>\n",
       "      <td>1.966419</td>\n",
       "      <td>128</td>\n",
       "      <td>3</td>\n",
       "      <td>3</td>\n",
       "      <td>64.0</td>\n",
       "    </tr>\n",
       "    <tr>\n",
       "      <th>2021-11-02 00:00:00.039267</th>\n",
       "      <td>3.950496</td>\n",
       "      <td>-0.375052</td>\n",
       "      <td>1.961092</td>\n",
       "      <td>128</td>\n",
       "      <td>3</td>\n",
       "      <td>3</td>\n",
       "      <td>64.0</td>\n",
       "    </tr>\n",
       "    <tr>\n",
       "      <th>2021-11-02 00:00:00.054888</th>\n",
       "      <td>3.939232</td>\n",
       "      <td>-0.368967</td>\n",
       "      <td>1.967236</td>\n",
       "      <td>128</td>\n",
       "      <td>3</td>\n",
       "      <td>3</td>\n",
       "      <td>64.0</td>\n",
       "    </tr>\n",
       "    <tr>\n",
       "      <th>2021-11-02 00:00:00.070518</th>\n",
       "      <td>3.930108</td>\n",
       "      <td>-0.338459</td>\n",
       "      <td>1.962432</td>\n",
       "      <td>128</td>\n",
       "      <td>3</td>\n",
       "      <td>3</td>\n",
       "      <td>64.0</td>\n",
       "    </tr>\n",
       "    <tr>\n",
       "      <th>...</th>\n",
       "      <td>...</td>\n",
       "      <td>...</td>\n",
       "      <td>...</td>\n",
       "      <td>...</td>\n",
       "      <td>...</td>\n",
       "      <td>...</td>\n",
       "      <td>...</td>\n",
       "    </tr>\n",
       "    <tr>\n",
       "      <th>2021-11-04 23:59:59.926825</th>\n",
       "      <td>4.526444</td>\n",
       "      <td>3.637329</td>\n",
       "      <td>4.360038</td>\n",
       "      <td>160</td>\n",
       "      <td>2</td>\n",
       "      <td>3</td>\n",
       "      <td>64.0</td>\n",
       "    </tr>\n",
       "    <tr>\n",
       "      <th>2021-11-04 23:59:59.942456</th>\n",
       "      <td>4.521426</td>\n",
       "      <td>3.642776</td>\n",
       "      <td>4.374535</td>\n",
       "      <td>160</td>\n",
       "      <td>2</td>\n",
       "      <td>3</td>\n",
       "      <td>64.0</td>\n",
       "    </tr>\n",
       "    <tr>\n",
       "      <th>2021-11-04 23:59:59.958077</th>\n",
       "      <td>4.495283</td>\n",
       "      <td>3.661739</td>\n",
       "      <td>4.364769</td>\n",
       "      <td>160</td>\n",
       "      <td>2</td>\n",
       "      <td>3</td>\n",
       "      <td>64.0</td>\n",
       "    </tr>\n",
       "    <tr>\n",
       "      <th>2021-11-04 23:59:59.973707</th>\n",
       "      <td>4.523703</td>\n",
       "      <td>3.661319</td>\n",
       "      <td>4.346450</td>\n",
       "      <td>160</td>\n",
       "      <td>2</td>\n",
       "      <td>3</td>\n",
       "      <td>64.0</td>\n",
       "    </tr>\n",
       "    <tr>\n",
       "      <th>2021-11-04 23:59:59.989328</th>\n",
       "      <td>4.550897</td>\n",
       "      <td>3.662775</td>\n",
       "      <td>4.322616</td>\n",
       "      <td>160</td>\n",
       "      <td>2</td>\n",
       "      <td>3</td>\n",
       "      <td>64.0</td>\n",
       "    </tr>\n",
       "  </tbody>\n",
       "</table>\n",
       "<p>16588983 rows × 7 columns</p>\n",
       "</div>"
      ],
      "text/plain": [
       "                             B_RTN_0   B_RTN_1   B_RTN_2  QUALITY_BITMASK  \\\n",
       "EPOCH                                                                       \n",
       "2021-11-02 00:00:00.008016  3.923956 -0.335455  1.932519              128   \n",
       "2021-11-02 00:00:00.023636  3.937984 -0.354998  1.966419              128   \n",
       "2021-11-02 00:00:00.039267  3.950496 -0.375052  1.961092              128   \n",
       "2021-11-02 00:00:00.054888  3.939232 -0.368967  1.967236              128   \n",
       "2021-11-02 00:00:00.070518  3.930108 -0.338459  1.962432              128   \n",
       "...                              ...       ...       ...              ...   \n",
       "2021-11-04 23:59:59.926825  4.526444  3.637329  4.360038              160   \n",
       "2021-11-04 23:59:59.942456  4.521426  3.642776  4.374535              160   \n",
       "2021-11-04 23:59:59.958077  4.495283  3.661739  4.364769              160   \n",
       "2021-11-04 23:59:59.973707  4.523703  3.661319  4.346450              160   \n",
       "2021-11-04 23:59:59.989328  4.550897  3.662775  4.322616              160   \n",
       "\n",
       "                            QUALITY_FLAG  VECTOR_RANGE  VECTOR_TIME_RESOLUTION  \n",
       "EPOCH                                                                           \n",
       "2021-11-02 00:00:00.008016             3             3                    64.0  \n",
       "2021-11-02 00:00:00.023636             3             3                    64.0  \n",
       "2021-11-02 00:00:00.039267             3             3                    64.0  \n",
       "2021-11-02 00:00:00.054888             3             3                    64.0  \n",
       "2021-11-02 00:00:00.070518             3             3                    64.0  \n",
       "...                                  ...           ...                     ...  \n",
       "2021-11-04 23:59:59.926825             2             3                    64.0  \n",
       "2021-11-04 23:59:59.942456             2             3                    64.0  \n",
       "2021-11-04 23:59:59.958077             2             3                    64.0  \n",
       "2021-11-04 23:59:59.973707             2             3                    64.0  \n",
       "2021-11-04 23:59:59.989328             2             3                    64.0  \n",
       "\n",
       "[16588983 rows x 7 columns]"
      ]
     },
     "execution_count": 8,
     "metadata": {},
     "output_type": "execute_result"
    }
   ],
   "source": [
    "df_mag_burst"
   ]
  }
 ],
 "metadata": {
  "kernelspec": {
   "display_name": "Python 3 (ipykernel)",
   "language": "python",
   "name": "python3"
  },
  "language_info": {
   "codemirror_mode": {
    "name": "ipython",
    "version": 3
   },
   "file_extension": ".py",
   "mimetype": "text/x-python",
   "name": "python",
   "nbconvert_exporter": "python",
   "pygments_lexer": "ipython3",
   "version": "3.9.13"
  }
 },
 "nbformat": 4,
 "nbformat_minor": 5
}
